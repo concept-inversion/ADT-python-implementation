{
 "cells": [
  {
   "cell_type": "markdown",
   "metadata": {
    "collapsed": true
   },
   "source": [
    "# Stack using Python List\n",
    "Abstract Methods:\n",
    "1. Pop()\n",
    "2. Push(key)\n",
    "3. Top()\n",
    "4. Empty()"
   ]
  },
  {
   "cell_type": "code",
   "execution_count": 70,
   "metadata": {
    "collapsed": false
   },
   "outputs": [],
   "source": [
    "class Stack():\n",
    "    def __init__(self):\n",
    "        self.stack = []\n",
    "   \n",
    "    def Pop(self):\n",
    "        if (self.isEmpty()==True):\n",
    "            return \"Empty List\"\n",
    "        index = (len(self.stack)-1)\n",
    "        value=self.stack[index]\n",
    "        del self.stack[index]\n",
    "        return value\n",
    "    \n",
    "    def Push(self,key):\n",
    "        self.stack.append(key)\n",
    "        \n",
    "    def Top(self):\n",
    "        if (self.isEmpty()==True):\n",
    "            return \"Empty List\"\n",
    "        index=len(self.stack)-1\n",
    "        return self.stack[(index)]\n",
    "    \n",
    "    def isEmpty(self):\n",
    "        if len(self.stack)==0:\n",
    "            return True\n",
    "        else: return False"
   ]
  },
  {
   "cell_type": "code",
   "execution_count": 73,
   "metadata": {
    "collapsed": false
   },
   "outputs": [
    {
     "name": "stdout",
     "output_type": "stream",
     "text": [
      "1\n",
      "True\n"
     ]
    },
    {
     "data": {
      "text/plain": [
       "'Empty List'"
      ]
     },
     "execution_count": 73,
     "metadata": {},
     "output_type": "execute_result"
    }
   ],
   "source": [
    "a=Stack()\n",
    "a.Push(1)\n",
    "print(a.Pop())\n",
    "print(a.isEmpty())\n",
    "a.Top()"
   ]
  }
 ],
 "metadata": {
  "kernelspec": {
   "display_name": "Python 3",
   "language": "python",
   "name": "python3"
  },
  "language_info": {
   "codemirror_mode": {
    "name": "ipython",
    "version": 3
   },
   "file_extension": ".py",
   "mimetype": "text/x-python",
   "name": "python",
   "nbconvert_exporter": "python",
   "pygments_lexer": "ipython3",
   "version": "3.6.0"
  }
 },
 "nbformat": 4,
 "nbformat_minor": 0
}
